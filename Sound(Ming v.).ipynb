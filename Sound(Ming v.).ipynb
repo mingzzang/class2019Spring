{
 "cells": [
  {
   "cell_type": "markdown",
   "metadata": {},
   "source": [
    "기본 설정"
   ]
  },
  {
   "cell_type": "code",
   "execution_count": null,
   "metadata": {},
   "outputs": [],
   "source": [
    "from matplotlib import pyplot as plt\n",
    "from mpl_toolkits.mplot3d import Axes3D\n",
    "from mpl_toolkits.axes_grid1 import make_axes_locatable\n",
    "import IPython.display as ipd\n",
    "import numpy as np\n",
    "%matplotlib notebook\n",
    "from scipy.signal import lfilter"
   ]
  },
  {
   "cell_type": "markdown",
   "metadata": {},
   "source": [
    "Hz: 1초에 몇 번을 도냐.\n",
    "Sr: 1초에 숫자가 몇 개 있느냐\n",
    "Freq: sin 곡선처럼 1초에 태극 문양이 몇 번 반복되느냐, 주파수 및 음의 높낮이"
   ]
  },
  {
   "cell_type": "code",
   "execution_count": null,
   "metadata": {},
   "outputs": [],
   "source": [
    "# parameter setting\n",
    "amp = 1          # range [0.0, 1.0]\n",
    "sr = 10000       # sampling rate, Hz\n",
    "dur = 0.5        # in seconds\n",
    "freq = 100.0     # sine frequency, Hz"
   ]
  },
  {
   "cell_type": "markdown",
   "metadata": {},
   "source": [
    "소리를 만들려면 시간부터 foundation해야 함.\n",
    "Arrange는 두 개의 입력을 받는데, 만약 (1, sr=9999)였다면 1부터 9999초까지 만드는 것. (1, sr+1)이었다면 1부터 10000초까지 만드는 것. 이걸 sr로 나눠주면 1/10000부터 1초까지. 이것이 1초까지 time sample(10000개)을 만들어내는 방법. (=sr이 1초동안 몇 개의 숫자가 있냐는 것이므로.)\n",
    "(1, sr*0.5+1)/sr은 1부터 5000초까지를 sr로 나눠주는 것이므로 1/10000부터 0.5초까지. 여기서 +1은 보정해주는 값.(sr이 9999이므로)"
   ]
  },
  {
   "cell_type": "code",
   "execution_count": null,
   "metadata": {},
   "outputs": [],
   "source": [
    "# generate time\n",
    "t = np.arange(1, sr * dur+1)/sr"
   ]
  },
  {
   "cell_type": "markdown",
   "metadata": {},
   "source": [
    "sin은 시간이 아닌 radian값을 받아들이므로 각도에 freq값을 넣어줘야 함."
   ]
  },
  {
   "cell_type": "code",
   "execution_count": null,
   "metadata": {},
   "outputs": [],
   "source": [
    "# generate phase\n",
    "theta = t * 2*np.pi * freq"
   ]
  },
  {
   "cell_type": "markdown",
   "metadata": {},
   "source": [
    "np 안에 있는 sin함수를 쓰겠다.\n",
    "Sin(theta)에서 ()안에 들어가는 숫자는 각도 값. 이때 각도 값에는 degree(0~360도) 자체가 있고, pi로 환산(180=pi)되는 radian 값이 있다. 의미 있는 값을 받으려면 radian을 넣어야 함.\n"
   ]
  },
  {
   "cell_type": "code",
   "execution_count": null,
   "metadata": {},
   "outputs": [],
   "source": [
    "# generate signal by cosine-phasor\n",
    "s = np.sin(theta)"
   ]
  },
  {
   "cell_type": "markdown",
   "metadata": {},
   "source": [
    "plot을 만드는 공식일 뿐, 외우면 되지만 시험에 나올 일은 없음.(plt는 가장 앞의 파일명)\n",
    "plot에 총 3개의 armument가 들어가는데, ‘.’은 없어도 됨. 그걸 없다고 쳤을 경우에, simplify를 해보면 ax.plot(t, s)가 됨. Plot을 만드는 데는 theta(=중간 과정 값)가 쓰이지 않고 있다 ! 히야 !\n",
    "[0:1000]은 0부터 1000까지 값을 뿌려라.\n",
    "x축과 y축에 label을 붙이는 것."
   ]
  },
  {
   "cell_type": "code",
   "execution_count": null,
   "metadata": {},
   "outputs": [],
   "source": [
    "fig = plt.figure()\n",
    "ax = fig.add_subplot(111)\n",
    "ax.plot(t[0:1000], s[0:1000], '.')\n",
    "ax.set_xlabel('time (s)')\n",
    "ax.set_ylabel('real')"
   ]
  },
  {
   "cell_type": "markdown",
   "metadata": {},
   "source": [
    "sin(theta) 이때 theta는 물론 t과 convert된 값( t = 0.0001, 0.0002, … / theta = 0.000, … 2pi (when freq = 1Hz))\n",
    "e=2.718… e^theta*i (i = j, 1*j라고 해야 i라고 똑같이 느껴짐.)\n",
    "복소수는 반드시 a+bi 라는 형태. A(실수 r)은 x축, b(imaginary)는 y축으로 해서 (a.b)라고 설정\n",
    "복소수의 공간(새로 생긴 y축)을 복수?평면이라고 함."
   ]
  },
  {
   "cell_type": "code",
   "execution_count": null,
   "metadata": {},
   "outputs": [],
   "source": [
    "# generate signal by complex-phasor\n",
    "c = np.exp(theta*1j)"
   ]
  }
 ],
 "metadata": {
  "kernelspec": {
   "display_name": "Python 3",
   "language": "python",
   "name": "python3"
  },
  "language_info": {
   "codemirror_mode": {
    "name": "ipython",
    "version": 3
   },
   "file_extension": ".py",
   "mimetype": "text/x-python",
   "name": "python",
   "nbconvert_exporter": "python",
   "pygments_lexer": "ipython3",
   "version": "3.6.5"
  }
 },
 "nbformat": 4,
 "nbformat_minor": 2
}
