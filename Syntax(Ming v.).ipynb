{
 "cells": [
  {
   "cell_type": "markdown",
   "metadata": {},
   "source": [
    "For I: in a는 a를 i에 대입하는 것."
   ]
  },
  {
   "cell_type": "code",
   "execution_count": 1,
   "metadata": {},
   "outputs": [
    {
     "name": "stdout",
     "output_type": "stream",
     "text": [
      "1\n",
      "2\n",
      "3\n",
      "4\n"
     ]
    }
   ],
   "source": [
    "a = [1, 2, 3, 4]\n",
    "for i in a:\n",
    "    print(i)"
   ]
  },
  {
   "cell_type": "markdown",
   "metadata": {},
   "source": [
    "range(4)는 0 1 2 3"
   ]
  },
  {
   "cell_type": "code",
   "execution_count": 2,
   "metadata": {},
   "outputs": [
    {
     "name": "stdout",
     "output_type": "stream",
     "text": [
      "1\n",
      "2\n",
      "3\n",
      "4\n"
     ]
    }
   ],
   "source": [
    "a = [1, 2, 3, 4]\n",
    "for i in range(len(a)):\n",
    "    print(a[i])"
   ]
  },
  {
   "cell_type": "markdown",
   "metadata": {},
   "source": [
    "For I: in a는 a를 i에 대입하는 것."
   ]
  },
  {
   "cell_type": "code",
   "execution_count": 3,
   "metadata": {},
   "outputs": [
    {
     "name": "stdout",
     "output_type": "stream",
     "text": [
      "red\n",
      "green\n",
      "blue\n",
      "purple\n"
     ]
    }
   ],
   "source": [
    "a = ['red', 'green', 'blue', 'purple']\n",
    "for i in a:\n",
    "    print(i)"
   ]
  },
  {
   "cell_type": "markdown",
   "metadata": {},
   "source": [
    "range(4)는 0 1 2 3"
   ]
  },
  {
   "cell_type": "code",
   "execution_count": 4,
   "metadata": {},
   "outputs": [
    {
     "name": "stdout",
     "output_type": "stream",
     "text": [
      "red\n",
      "green\n",
      "blue\n",
      "purple\n"
     ]
    }
   ],
   "source": [
    "a = ['red', 'green', 'blue', 'purple']\n",
    "for i in range(len(a)):\n",
    "    print(a[i])"
   ]
  },
  {
   "cell_type": "markdown",
   "metadata": {},
   "source": [
    "for i, in enumerate는 i에 0,1,2,3을 주고 a는 그대로."
   ]
  },
  {
   "cell_type": "code",
   "execution_count": 5,
   "metadata": {},
   "outputs": [
    {
     "name": "stdout",
     "output_type": "stream",
     "text": [
      "red: 20.0%\n",
      "green: 30.0%\n",
      "blue: 10.0%\n",
      "purple: 40.0%\n"
     ]
    }
   ],
   "source": [
    "a = [\"red\", \"green\", \"blue\", \"purple\"]\n",
    "b = [0.2, 0.3, 0.1, 0.4]\n",
    "for i, a_ in enumerate(a):\n",
    "    print(\"{}: {}%\".format(a_, b[i]*100))"
   ]
  },
  {
   "cell_type": "markdown",
   "metadata": {},
   "source": [
    "Red, 0 / green, 1… 이런 식으로 a에 들어가고, b에 그대로 들어간 뒤 *100으로 20, 30, 10, 40이 나옴. "
   ]
  },
  {
   "cell_type": "code",
   "execution_count": 6,
   "metadata": {},
   "outputs": [
    {
     "name": "stdout",
     "output_type": "stream",
     "text": [
      "red: 20.0%\n",
      "green: 30.0%\n",
      "blue: 10.0%\n",
      "purple: 40.0%\n"
     ]
    }
   ],
   "source": [
    "a = [\"red\", \"green\", \"blue\", \"purple\"]\n",
    "b = [0.2, 0.3, 0.1, 0.4]\n",
    "for a_, b_ in zip(a, b):\n",
    "    print(\"{}: {}%\".format(a_, b_*100))"
   ]
  },
  {
   "cell_type": "markdown",
   "metadata": {},
   "source": [
    "변수 정의할 때 =, 수학적 equal은 ==. :은 필수."
   ]
  },
  {
   "cell_type": "code",
   "execution_count": 7,
   "metadata": {},
   "outputs": [
    {
     "name": "stdout",
     "output_type": "stream",
     "text": [
      "0\n"
     ]
    }
   ],
   "source": [
    "a = 0\n",
    "if a == 0:\n",
    "    print(a)\n",
    "else:\n",
    "    print(a+1)"
   ]
  },
  {
   "cell_type": "markdown",
   "metadata": {},
   "source": [
    "Range(1, 3)은 1,2 고 range(3, 5)는 3, 4이다."
   ]
  },
  {
   "cell_type": "code",
   "execution_count": 8,
   "metadata": {},
   "outputs": [
    {
     "name": "stdout",
     "output_type": "stream",
     "text": [
      "3\n",
      "4\n",
      "6\n",
      "8\n"
     ]
    }
   ],
   "source": [
    "for i in range(1, 3):\n",
    "    for j in range(3, 5):\n",
    "        print(i*j)"
   ]
  },
  {
   "cell_type": "markdown",
   "metadata": {},
   "source": [
    "Tab을 쓰면 상위의 내부에 포함되는 식. 이것 주의.\n",
    "J에서 3이 자동으로 버려짐."
   ]
  },
  {
   "cell_type": "code",
   "execution_count": 9,
   "metadata": {},
   "outputs": [
    {
     "name": "stdout",
     "output_type": "stream",
     "text": [
      "4\n",
      "8\n"
     ]
    }
   ],
   "source": [
    "for i in range(1, 3):\n",
    "    for j in range(3, 5):\n",
    "        if j >=4:\n",
    "            print(i*j)"
   ]
  },
  {
   "cell_type": "markdown",
   "metadata": {},
   "source": [
    "Python의 꽃(한 줄에 for 루프와 if 등이 들어감.)\n",
    "For I in a는 평범한 for loof. I에 1, 2, 3, 4가 대입될 것."
   ]
  },
  {
   "cell_type": "code",
   "execution_count": 10,
   "metadata": {},
   "outputs": [
    {
     "data": {
      "text/plain": [
       "[2, 3, 4]"
      ]
     },
     "execution_count": 10,
     "metadata": {},
     "output_type": "execute_result"
    }
   ],
   "source": [
    "a = [1, 2, 3, 4]\n",
    "b = [i for i in a if i >=2]\n",
    "b"
   ]
  },
  {
   "cell_type": "markdown",
   "metadata": {},
   "source": [
    "For I in a는 a를 i에 대입하는 것. Len(a)는 length, character의 개수.\n",
    "즉 글자수 4개 이상인 경우만 결과값으로 낼 것."
   ]
  },
  {
   "cell_type": "code",
   "execution_count": 11,
   "metadata": {},
   "outputs": [
    {
     "data": {
      "text/plain": [
       "['green', 'blue', 'purple']"
      ]
     },
     "execution_count": 11,
     "metadata": {},
     "output_type": "execute_result"
    }
   ],
   "source": [
    "a = ['red', 'green', 'blue', 'purple']\n",
    "b = [i for i in a if len(i) >=4]\n",
    "b"
   ]
  },
  {
   "cell_type": "code",
   "execution_count": null,
   "metadata": {},
   "outputs": [],
   "source": []
  }
 ],
 "metadata": {
  "kernelspec": {
   "display_name": "Python 3",
   "language": "python",
   "name": "python3"
  },
  "language_info": {
   "codemirror_mode": {
    "name": "ipython",
    "version": 3
   },
   "file_extension": ".py",
   "mimetype": "text/x-python",
   "name": "python",
   "nbconvert_exporter": "python",
   "pygments_lexer": "ipython3",
   "version": "3.6.5"
  }
 },
 "nbformat": 4,
 "nbformat_minor": 2
}
